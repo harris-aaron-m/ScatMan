{
 "cells": [
  {
   "cell_type": "code",
   "execution_count": 4,
   "metadata": {
    "scrolled": false
   },
   "outputs": [
    {
     "name": "stdout",
     "output_type": "stream",
     "text": [
      "48000\n"
     ]
    },
    {
     "data": {
      "image/png": "[encoded data removed]",
      "text/plain": [
       "<Figure size 960x480 with 1 Axes>"
      ]
     },
     "metadata": {
      "needs_background": "light"
     },
     "output_type": "display_data"
    },
    {
     "name": "stdout",
     "output_type": "stream",
     "text": [
      "Captured from  9196 : 15515\n",
      "Captured from  29583 : 36582\n",
      "Captured from  50078 : 55589\n",
      "Captured from  70862 : 77016\n",
      "1840 \t 84.0 \t T\n",
      "2010 \t 101.0 \t e\n",
      "2150 \t 115.0 \t s\n",
      "2160 \t 116.0 \t t\n"
     ]
    }
   ],
   "source": [
    "import numpy as np\n",
    "import matplotlib.pyplot as plt\n",
    "from scipy import stats\n",
    "from scipy.io import wavfile\n",
    "from matplotlib.pyplot import figure\n",
    "import scipy as sy\n",
    "import scipy.fftpack as syfp\n",
    "\n",
    "# Code Source for Frequency Analysis: https://gist.github.com/endolith/255291 #\n",
    "from scipy.signal import blackmanharris, correlate\n",
    "from numpy import argmax, mean, diff, log, nonzero\n",
    "from numpy.fft import rfft\n",
    "def parabolic(f, x):\n",
    "    \"\"\"Quadratic interpolation for estimating the true position of an\n",
    "    inter-sample maximum when nearby samples are known.\n",
    "    f is a vector and x is an index for that vector.\n",
    "    Returns (vx, vy), the coordinates of the vertex of a parabola that goes\n",
    "    through point x and its two neighbors.\n",
    "    Example:\n",
    "    Defining a vector f with a local maximum at index 3 (= 6), find local\n",
    "    maximum if points 2, 3, and 4 actually defined a parabola.\n",
    "    In [3]: f = [2, 3, 1, 6, 4, 2, 3, 1]\n",
    "    In [4]: parabolic(f, argmax(f))\n",
    "    Out[4]: (3.2142857142857144, 6.1607142857142856)\n",
    "    \"\"\"\n",
    "    xv = 1/2. * (f[x-1] - f[x+1]) / (f[x-1] - 2 * f[x] + f[x+1]) + x\n",
    "    yv = f[x] - 1/4. * (f[x-1] - f[x+1]) * (xv - x)\n",
    "    return (xv, yv)\n",
    "def freq_from_fft(sig, fs):\n",
    "    \"\"\"\n",
    "    Estimate frequency from peak of FFT\n",
    "    \"\"\"\n",
    "    # Compute Fourier transform of windowed signal\n",
    "    windowed = sig * blackmanharris(len(sig))\n",
    "    f = rfft(windowed)\n",
    "\n",
    "    # Find the peak and interpolate to get a more accurate peak\n",
    "    i = argmax(abs(f))  # Just use this for less-accurate, naive version\n",
    "    true_i = parabolic(log(abs(f)), i)[0]\n",
    "\n",
    "    # Convert to equivalent frequency\n",
    "    return fs * true_i / len(windowed)\n",
    "\n",
    "# End Code from GitHub/endolith #\n",
    "\n",
    "def Round10(num):\n",
    "    return round(num/10)*10\n",
    "\n",
    "def GetWaveParts(wave):\n",
    "    #print(wave.__len__())\n",
    "    md = stats.mode(wave)[0][0] #[0][0] because it gets returns inside a larger object.\n",
    "    #print(md)\n",
    "    start = 0\n",
    "    trail = 0\n",
    "    end = 0\n",
    "    waves = []\n",
    "    for i in range(0, wave.__len__()):\n",
    "        if wave[i] > 50 and start == 0:\n",
    "            start = i\n",
    "        if (wave[i] == 0 or wave[i] == 1) and start != 0:\n",
    "            trail += 1\n",
    "        if trail >= 10:\n",
    "            end = i - 3\n",
    "            print(\"Captured from \", start, \":\", end)\n",
    "            seg = wave[start:end]\n",
    "            waves.append(seg)\n",
    "            start = 0\n",
    "            end = 0\n",
    "            trail = 0\n",
    "    return waves\n",
    "\n",
    "figure(figsize=(12, 6), dpi=80)\n",
    "\n",
    "samplerate, data = wavfile.read('test_Test.wav')\n",
    "fs = 1/samplerate\n",
    "print(samplerate)\n",
    "plt.plot(data)\n",
    "plt.show()\n",
    "waves = GetWaveParts(data)\n",
    "\n",
    "for w in waves:\n",
    "    f = Round10(freq_from_fft(w, samplerate))\n",
    "    c = (f-1000)/10\n",
    "    print(f, '\\t', c, '\\t', chr(int(c)))\n",
    "\n",
    "\n",
    "# 'Test'\n",
    "#ByteVal/Freq\n",
    "#84/1840\n",
    "#101/2010\n",
    "#115/2150\n",
    "#116/2160\n",
    "\n"
   ]
  }
 ],
 "metadata": {
  "kernelspec": {
   "display_name": "Python 3",
   "language": "python",
   "name": "python3"
  },
  "language_info": {
   "codemirror_mode": {
    "name": "ipython",
    "version": 3
   },
   "file_extension": ".py",
   "mimetype": "text/x-python",
   "name": "python",
   "nbconvert_exporter": "python",
   "pygments_lexer": "ipython3",
   "version": "3.8.5"
  }
 },
 "nbformat": 4,
 "nbformat_minor": 4
}
